{
 "cells": [
  {
   "cell_type": "markdown",
   "id": "bb32b84b-ce9f-4cbc-a5fa-b695922156ef",
   "metadata": {},
   "source": [
    "# Data Science Tools and Ecosystem"
   ]
  },
  {
   "cell_type": "markdown",
   "id": "fbce4abc-6b15-40f0-9aac-1bcf05f33dce",
   "metadata": {},
   "source": [
    "## In this notebook, Data Science Tools and Ecosystem are Summarized"
   ]
  },
  {
   "cell_type": "markdown",
   "id": "3a98566a-6843-4d10-9be2-ac70c164c707",
   "metadata": {},
   "source": [
    "**Objectives:**\n",
    "\n",
    "- List popular languages for Data Science  \n",
    "- Identify commonly used libraries in Data Science  \n",
    "- Create tables of essential Data Science tools  \n",
    "- Demonstrate arithmetic expression evaluation in Python  \n",
    "- Convert minutes to hours using Python operations  \n"
   ]
  },
  {
   "cell_type": "markdown",
   "id": "633ee886-0c18-41c9-8e00-10f94b852c9b",
   "metadata": {},
   "source": [
    "## Popular Data Science Languages\n",
    "\n",
    "Some of the popular languages that Data Scientists use are:\n",
    "\n",
    "1. Python\n",
    "2. R\n",
    "3. SQL\n",
    "4. Julia\n",
    "5. Scala\n"
   ]
  },
  {
   "cell_type": "markdown",
   "id": "78c64ecf-e537-488f-8fe6-ca13b61f006a",
   "metadata": {},
   "source": [
    "## Data Scince Libraries\n",
    "\n",
    "Some of the commonly used libraries by Data Scientists include:\n",
    "\n",
    "1. Pandas\n",
    "2. Numpy\n",
    "3. Matplotlib\n",
    "4. TensorFlow\n",
    "5. Scikit-Learn"
   ]
  },
  {
   "cell_type": "markdown",
   "id": "668d20da-9b5d-4a84-8241-c7f777e04cba",
   "metadata": {},
   "source": [
    "## Data Science Tools\n",
    "\n",
    "| Data Science Tools      |\n",
    "|-------------------------|\n",
    "| Jupyter Notebook        |\n",
    "| RStudio (Open Source)   |\n",
    "| Apache Zeppelin         |\n"
   ]
  },
  {
   "cell_type": "markdown",
   "id": "922ece7e-8b8b-43c2-b6c4-c300fe70fabd",
   "metadata": {},
   "source": [
    "### Below are a few examples of evaluating arithmetic expressions in Python:\n",
    "\n"
   ]
  },
  {
   "cell_type": "code",
   "execution_count": 30,
   "id": "2df9639e-c8e7-42a6-94e4-bceabeeb8d8b",
   "metadata": {},
   "outputs": [
    {
     "data": {
      "text/plain": [
       "17"
      ]
     },
     "execution_count": 30,
     "metadata": {},
     "output_type": "execute_result"
    }
   ],
   "source": [
    "# This is a simple arithmetic expression to multiply then add integers\n",
    "(3*4)+5"
   ]
  },
  {
   "cell_type": "code",
   "execution_count": 39,
   "id": "7370dbf3-113e-4832-9498-d53a71978897",
   "metadata": {},
   "outputs": [
    {
     "data": {
      "text/plain": [
       "3.333"
      ]
     },
     "execution_count": 39,
     "metadata": {},
     "output_type": "execute_result"
    }
   ],
   "source": [
    "hours = round(200/60,3)\n",
    "hours"
   ]
  },
  {
   "cell_type": "markdown",
   "id": "627e3097-e290-425b-91c8-e53e9c616f3c",
   "metadata": {},
   "source": [
    "## Author:\n",
    "Samuel Addo Boye"
   ]
  },
  {
   "cell_type": "code",
   "execution_count": null,
   "id": "8bc14cd8-c3ff-45b0-8b58-3d359780f401",
   "metadata": {},
   "outputs": [],
   "source": []
  }
 ],
 "metadata": {
  "kernelspec": {
   "display_name": "Python [conda env:base] *",
   "language": "python",
   "name": "conda-base-py"
  },
  "language_info": {
   "codemirror_mode": {
    "name": "ipython",
    "version": 3
   },
   "file_extension": ".py",
   "mimetype": "text/x-python",
   "name": "python",
   "nbconvert_exporter": "python",
   "pygments_lexer": "ipython3",
   "version": "3.12.7"
  }
 },
 "nbformat": 4,
 "nbformat_minor": 5
}
